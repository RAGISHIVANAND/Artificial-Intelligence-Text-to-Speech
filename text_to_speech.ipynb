{
  "nbformat": 4,
  "nbformat_minor": 0,
  "metadata": {
    "colab": {
      "provenance": [],
      "authorship_tag": "ABX9TyMgxuGjI3Up4bzfuquEcged",
      "include_colab_link": true
    },
    "kernelspec": {
      "name": "python3",
      "display_name": "Python 3"
    },
    "language_info": {
      "name": "python"
    }
  },
  "cells": [
    {
      "cell_type": "markdown",
      "metadata": {
        "id": "view-in-github",
        "colab_type": "text"
      },
      "source": [
        "<a href=\"https://colab.research.google.com/github/RAGISHIVANAND/Text-to-Speech/blob/main/text_to_speech.ipynb\" target=\"_parent\"><img src=\"https://colab.research.google.com/assets/colab-badge.svg\" alt=\"Open In Colab\"/></a>"
      ]
    },
    {
      "cell_type": "markdown",
      "source": [
        "To import text-to-speech functionality in Google Colab, you can use the gTTS (Google Text-to-Speech) library, which allows you to convert text into speech. Here's a step-by-step guide:\n",
        "\n",
        "Install the required libraries: In a code cell in your Colab notebook, install the gTTS library using pip:"
      ],
      "metadata": {
        "id": "r-CTowdK6JdN"
      }
    },
    {
      "cell_type": "code",
      "source": [
        "!pip install gTTS\n"
      ],
      "metadata": {
        "colab": {
          "base_uri": "https://localhost:8080/",
          "height": 0
        },
        "id": "qjrlYQ-VxvUt",
        "outputId": "56ddbb8e-cebd-40f3-8454-2de3b46bd691"
      },
      "execution_count": 30,
      "outputs": [
        {
          "output_type": "stream",
          "name": "stdout",
          "text": [
            "Collecting gTTS\n",
            "  Downloading gTTS-2.3.2-py3-none-any.whl (28 kB)\n",
            "Requirement already satisfied: requests<3,>=2.27 in /usr/local/lib/python3.10/dist-packages (from gTTS) (2.27.1)\n",
            "Requirement already satisfied: click<8.2,>=7.1 in /usr/local/lib/python3.10/dist-packages (from gTTS) (8.1.3)\n",
            "Requirement already satisfied: urllib3<1.27,>=1.21.1 in /usr/local/lib/python3.10/dist-packages (from requests<3,>=2.27->gTTS) (1.26.16)\n",
            "Requirement already satisfied: certifi>=2017.4.17 in /usr/local/lib/python3.10/dist-packages (from requests<3,>=2.27->gTTS) (2023.5.7)\n",
            "Requirement already satisfied: charset-normalizer~=2.0.0 in /usr/local/lib/python3.10/dist-packages (from requests<3,>=2.27->gTTS) (2.0.12)\n",
            "Requirement already satisfied: idna<4,>=2.5 in /usr/local/lib/python3.10/dist-packages (from requests<3,>=2.27->gTTS) (3.4)\n",
            "Installing collected packages: gTTS\n",
            "Successfully installed gTTS-2.3.2\n"
          ]
        }
      ]
    },
    {
      "cell_type": "markdown",
      "source": [
        "Import the necessary modules: In the next code cell, import the gTTS library and the IPython library to display the audio:"
      ],
      "metadata": {
        "id": "ouRcyCyy6Oi9"
      }
    },
    {
      "cell_type": "code",
      "source": [
        "from gtts import gTTS\n",
        "from IPython.display import Audio\n"
      ],
      "metadata": {
        "id": "hZhyttLp2vPp"
      },
      "execution_count": 31,
      "outputs": []
    },
    {
      "cell_type": "markdown",
      "source": [
        "Generate the speech: In the next code cell, provide the text you want to convert into speech and create an instance of the gTTS class to generate the speech:"
      ],
      "metadata": {
        "id": "buh4h7hm6UO-"
      }
    },
    {
      "cell_type": "code",
      "source": [
        "# Specify the text to convert into speech\n",
        "text = \"Hello, how are you?\"\n",
        "\n",
        "# Create a gTTS instance and generate the speech\n",
        "tts = gTTS(text=text, lang='en')\n",
        "tts.save(\"/content/speech.mp3\")\n",
        "\n"
      ],
      "metadata": {
        "id": "osAWR4zE2y5y"
      },
      "execution_count": 40,
      "outputs": []
    },
    {
      "cell_type": "markdown",
      "source": [
        "Make sure to replace \"Hello, how are you?\" with the desired text you want to convert to speech.\n",
        "\n",
        "Play the speech: In the final code cell, use the IPython library to play the generated speech:"
      ],
      "metadata": {
        "id": "E8nCncYx6aFI"
      }
    },
    {
      "cell_type": "code",
      "source": [
        "# Specify the path to the generated speech file\n",
        "audio_path = \"/content/speech.mp3\"\n",
        "\n",
        "# Play the speech\n",
        "Audio(audio_path)\n"
      ],
      "metadata": {
        "colab": {
          "base_uri": "https://localhost:8080/",
          "height": 75
        },
        "id": "wgFxFyVY23qO",
        "outputId": "332a8e24-240e-4216-be8d-0d2687bd60fb"
      },
      "execution_count": 39,
      "outputs": [
        {
          "output_type": "execute_result",
          "data": {
            "text/plain": [
              "<IPython.lib.display.Audio object>"
            ],
            "text/html": [
              "\n",
              "                <audio  controls=\"controls\" >\n",
              "                    <source src=\"data:audio/mpeg;base64,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\" type=\"audio/mpeg\" />\n",
              "                    Your browser does not support the audio element.\n",
              "                </audio>\n",
              "              "
            ]
          },
          "metadata": {},
          "execution_count": 39
        }
      ]
    },
    {
      "cell_type": "code",
      "source": [],
      "metadata": {
        "id": "3XI58Bgb2-hf"
      },
      "execution_count": null,
      "outputs": []
    }
  ]
}